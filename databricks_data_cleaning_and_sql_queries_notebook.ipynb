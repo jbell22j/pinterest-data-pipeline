{
 "cells": [
  {
   "cell_type": "code",
   "execution_count": 0,
   "metadata": {
    "application/vnd.databricks.v1+cell": {
     "cellMetadata": {
      "byteLimit": 2048000,
      "rowLimit": 10000
     },
     "inputWidgets": {},
     "nuid": "a18ad55c-b612-46a6-8b97-354839bf4b30",
     "showTitle": false,
     "title": ""
    }
   },
   "outputs": [
    {
     "output_type": "display_data",
     "data": {
      "text/html": [
       "<style scoped>\n",
       "  .ansiout {\n",
       "    display: block;\n",
       "    unicode-bidi: embed;\n",
       "    white-space: pre-wrap;\n",
       "    word-wrap: break-word;\n",
       "    word-break: break-all;\n",
       "    font-family: \"Menlo\", \"Monaco\", \"Consolas\", \"Ubuntu Mono\", \"Source Code Pro\", monospace;\n",
       "    font-size: 13px;\n",
       "    color: #555;\n",
       "    margin-left: 4px;\n",
       "    line-height: 19px;\n",
       "  }\n",
       "</style>\n",
       "<div class=\"ansiout\">+-----+--------------------+--------------------+-------------------+\n",
       "  ind|             country|         coordinates|          timestamp|\n",
       "+-----+--------------------+--------------------+-------------------+\n",
       " 2301|Saint Vincent and...|  [13.4683, 51.7244]|2020-11-14 00:25:28|\n",
       " 5293|Sao Tome and Prin...|[-13.1463, -25.9649]|2019-05-31 20:49:36|\n",
       " 2604| Antigua and Barbuda|[-80.8933, -104.972]|2018-12-01 09:23:35|\n",
       " 2048| Antigua and Barbuda|[-89.4008, -142.186]|2017-11-20 06:33:50|\n",
       "10119|    Christmas Island|[-74.5431, -162.795]|2020-10-22 01:59:58|\n",
       " 2060| Trinidad and Tobago|  [52.4584, 68.6527]|2020-01-25 13:54:17|\n",
       " 6261|    Marshall Islands|[-10.3101, -109.763]|2021-11-11 16:18:45|\n",
       "10337|    Christmas Island| [-42.3069, -109.17]|2021-10-26 12:09:43|\n",
       " 3201|    Pitcairn Islands| [34.0532, -68.4946]|2019-06-25 08:31:37|\n",
       " 1422|      American Samoa|[-88.5252, -172.436]|2018-04-30 08:27:21|\n",
       " 8312|      American Samoa|[-77.9744, -106.258]|2021-04-25 15:56:29|\n",
       " 1450|      American Samoa|[-88.5252, -172.436]|2022-01-15 16:04:27|\n",
       " 9268|      American Samoa|[-88.5255, -161.644]|2020-03-16 23:13:51|\n",
       " 8578|       Guinea-Bissau| [34.6427, -161.397]|2018-01-26 19:27:11|\n",
       " 6844|       New Caledonia| [-22.6915, 5.69245]|2021-06-06 21:53:11|\n",
       " 8978|       Faroe Islands| [-2.01499, 3.78198]|2017-12-01 13:26:06|\n",
       " 3599|         Afghanistan|[-88.5478, -174.971]|2019-03-03 06:13:41|\n",
       " 4988|          Madagascar|[-32.1879, -35.2784]|2020-07-11 11:01:12|\n",
       "  427|         Isle of Man|[-66.9418, -30.0087]|2020-04-22 03:08:50|\n",
       " 5758|          Azerbaijan|[-79.3714, -145.242]|2018-09-12 15:08:34|\n",
       "+-----+--------------------+--------------------+-------------------+\n",
       "only showing top 20 rows\n",
       "\n",
       "</div>"
      ]
     },
     "metadata": {
      "application/vnd.databricks.v1+output": {
       "addedWidgets": {},
       "arguments": {},
       "data": "<div class=\"ansiout\">+-----+--------------------+--------------------+-------------------+\n|  ind|             country|         coordinates|          timestamp|\n+-----+--------------------+--------------------+-------------------+\n| 2301|Saint Vincent and...|  [13.4683, 51.7244]|2020-11-14 00:25:28|\n| 5293|Sao Tome and Prin...|[-13.1463, -25.9649]|2019-05-31 20:49:36|\n| 2604| Antigua and Barbuda|[-80.8933, -104.972]|2018-12-01 09:23:35|\n| 2048| Antigua and Barbuda|[-89.4008, -142.186]|2017-11-20 06:33:50|\n|10119|    Christmas Island|[-74.5431, -162.795]|2020-10-22 01:59:58|\n| 2060| Trinidad and Tobago|  [52.4584, 68.6527]|2020-01-25 13:54:17|\n| 6261|    Marshall Islands|[-10.3101, -109.763]|2021-11-11 16:18:45|\n|10337|    Christmas Island| [-42.3069, -109.17]|2021-10-26 12:09:43|\n| 3201|    Pitcairn Islands| [34.0532, -68.4946]|2019-06-25 08:31:37|\n| 1422|      American Samoa|[-88.5252, -172.436]|2018-04-30 08:27:21|\n| 8312|      American Samoa|[-77.9744, -106.258]|2021-04-25 15:56:29|\n| 1450|      American Samoa|[-88.5252, -172.436]|2022-01-15 16:04:27|\n| 9268|      American Samoa|[-88.5255, -161.644]|2020-03-16 23:13:51|\n| 8578|       Guinea-Bissau| [34.6427, -161.397]|2018-01-26 19:27:11|\n| 6844|       New Caledonia| [-22.6915, 5.69245]|2021-06-06 21:53:11|\n| 8978|       Faroe Islands| [-2.01499, 3.78198]|2017-12-01 13:26:06|\n| 3599|         Afghanistan|[-88.5478, -174.971]|2019-03-03 06:13:41|\n| 4988|          Madagascar|[-32.1879, -35.2784]|2020-07-11 11:01:12|\n|  427|         Isle of Man|[-66.9418, -30.0087]|2020-04-22 03:08:50|\n| 5758|          Azerbaijan|[-79.3714, -145.242]|2018-09-12 15:08:34|\n+-----+--------------------+--------------------+-------------------+\nonly showing top 20 rows\n\n</div>",
       "datasetInfos": [],
       "metadata": {},
       "removedWidgets": [],
       "type": "html"
      }
     },
     "output_type": "display_data"
    }
   ],
   "source": [
    "import pyspark.sql.functions as F\n",
    "from pyspark.sql import SparkSession\n",
    "from pyspark.sql.functions import concat_ws\n",
    "from pyspark.sql.functions import regexp_replace\n",
    "\n",
    "#GEO DATAFRAME\n",
    "#Databricks code\n",
    "#Reading the geo dataframe\n",
    "file_type = \"json\"\n",
    "infer_schema = \"true\"\n",
    "\n",
    "file_location_geo = \"/mnt/0a65154c50dd-mount/topics/0a65154c50dd.geo/partition=0//*.json\" \n",
    "df_geo = spark.read.format(file_type) \\\n",
    ".option(\"inferSchema\", infer_schema) \\\n",
    ".load(file_location_geo)\n",
    "\n",
    "df_geo.createOrReplaceTempView(\"geo\")\n",
    "\n",
    "\n",
    "#Data Cleaning \n",
    "\n",
    "df_geo = spark.sql(\"SELECT * FROM geo\")\n",
    "df_geo = df_geo.withColumn('coordinates',F.array(df_geo.latitude,df_geo.longitude))\n",
    "df_geo = df_geo.drop(\"latitude\",\"longitude\")\n",
    "df_geo = df_geo.withColumn(\"timestamp\",  \n",
    "                                  df_geo[\"timestamp\"] \n",
    "                                  .cast('timestamp')) \n",
    "df_geo = df_geo.select(\"ind\",\"country\",\"coordinates\",\"timestamp\")\n",
    "df_geo.show()"
   ]
  },
  {
   "cell_type": "code",
   "execution_count": 0,
   "metadata": {
    "application/vnd.databricks.v1+cell": {
     "cellMetadata": {
      "byteLimit": 2048000,
      "rowLimit": 10000
     },
     "inputWidgets": {},
     "nuid": "bc4ef7b0-d178-43db-9e7a-3f7a83ab4cf5",
     "showTitle": false,
     "title": ""
    }
   },
   "outputs": [
    {
     "output_type": "display_data",
     "data": {
      "text/html": [
       "<style scoped>\n",
       "  .ansiout {\n",
       "    display: block;\n",
       "    unicode-bidi: embed;\n",
       "    white-space: pre-wrap;\n",
       "    word-wrap: break-word;\n",
       "    word-break: break-all;\n",
       "    font-family: \"Menlo\", \"Monaco\", \"Consolas\", \"Ubuntu Mono\", \"Source Code Pro\", monospace;\n",
       "    font-size: 13px;\n",
       "    color: #555;\n",
       "    margin-left: 4px;\n",
       "    line-height: 19px;\n",
       "  }\n",
       "</style>\n",
       "<div class=\"ansiout\"></div>"
      ]
     },
     "metadata": {
      "application/vnd.databricks.v1+output": {
       "addedWidgets": {},
       "arguments": {},
       "data": "<div class=\"ansiout\"></div>",
       "datasetInfos": [],
       "metadata": {},
       "removedWidgets": [],
       "type": "html"
      }
     },
     "output_type": "display_data"
    }
   ],
   "source": [
    "#USER DATAFRAME \n",
    "\n",
    "file_location_user = \"/mnt/0a65154c50dd-mount/topics/0a65154c50dd.user/partition=0//*.json\" \n",
    "df_user = spark.read.format(file_type) \\\n",
    ".option(\"inferSchema\", infer_schema) \\\n",
    ".load(file_location_user)\n",
    "\n",
    "df_user.createOrReplaceTempView(\"user\")\n",
    "\n",
    "#Data Cleaning\n",
    "\n",
    "df_user = spark.sql(\"SELECT * FROM user\")\n",
    "\n",
    "col_list = ['first_name','last_name']\n",
    "df_user = df_user.withColumn('user_name',concat_ws(' ',*col_list))\n",
    "df_user = df_user.drop('first_name','last_name')\n",
    "df_user = df_user.withColumn(\"date_joined\",  \n",
    "                                  df_user[\"date_joined\"] \n",
    "                                  .cast('timestamp')) \n",
    "df_user = df_user.withColumn(\"age\",  \n",
    "                                  df_user[\"age\"] \n",
    "                                  .cast('int')) \n",
    "df_user = df_user.select(\"ind\",\"user_name\",\"age\",\"date_joined\")"
   ]
  },
  {
   "cell_type": "code",
   "execution_count": 0,
   "metadata": {
    "application/vnd.databricks.v1+cell": {
     "cellMetadata": {
      "byteLimit": 2048000,
      "rowLimit": 10000
     },
     "inputWidgets": {},
     "nuid": "58897639-d595-4fe1-bf69-9f26029ada5f",
     "showTitle": false,
     "title": ""
    }
   },
   "outputs": [
    {
     "output_type": "display_data",
     "data": {
      "text/html": [
       "<style scoped>\n",
       "  .ansiout {\n",
       "    display: block;\n",
       "    unicode-bidi: embed;\n",
       "    white-space: pre-wrap;\n",
       "    word-wrap: break-word;\n",
       "    word-break: break-all;\n",
       "    font-family: \"Menlo\", \"Monaco\", \"Consolas\", \"Ubuntu Mono\", \"Source Code Pro\", monospace;\n",
       "    font-size: 13px;\n",
       "    color: #555;\n",
       "    margin-left: 4px;\n",
       "    line-height: 19px;\n",
       "  }\n",
       "</style>\n",
       "<div class=\"ansiout\"></div>"
      ]
     },
     "metadata": {
      "application/vnd.databricks.v1+output": {
       "addedWidgets": {},
       "arguments": {},
       "data": "<div class=\"ansiout\"></div>",
       "datasetInfos": [],
       "metadata": {},
       "removedWidgets": [],
       "type": "html"
      }
     },
     "output_type": "display_data"
    }
   ],
   "source": [
    "#PIN DATAFRAME\n",
    "\n",
    "file_location_pin = \"/mnt/0a65154c50dd-mount/topics/0a65154c50dd.pin/partition=0//*.json\" \n",
    "df_pin = spark.read.format(file_type) \\\n",
    ".option(\"inferSchema\", infer_schema) \\\n",
    ".load(file_location_pin)\n",
    "\n",
    "df_pin.createOrReplaceTempView(\"pin\")\n",
    "\n",
    "#Data Cleaning\n",
    "\n",
    "df_pin = spark.sql(\"SELECT * FROM pin\")\n",
    "df_pin = df_pin.withColumnRenamed('index', 'ind')\n",
    "df_pin = df_pin.withColumn('follower_count', regexp_replace('follower_count', 'k', '000'))\n",
    "df_pin = df_pin.withColumn('follower_count', regexp_replace('follower_count', 'M', '000000'))\n",
    "df_pin = df_pin.withColumn('save_location', regexp_replace('save_location', 'Local save in /', ''))\n",
    "df_pin = df_pin.withColumn(\"follower_count\",  \n",
    "                                  df_pin[\"follower_count\"] \n",
    "                                  .cast('int')) \n",
    "df_pin = df_pin.withColumn(\"downloaded\",  \n",
    "                                  df_pin[\"downloaded\"] \n",
    "                                  .cast('int')) \n",
    "df_pin = df_pin.select(\"ind\",\"unique_id\",\"title\",\"description\",\"follower_count\",\"poster_name\",\"tag_list\",\"is_image_or_video\",\"image_src\",\"save_location\",\"category\")\n",
    "df_pin = df_pin.na.fill(\"Nones\")"
   ]
  },
  {
   "cell_type": "code",
   "execution_count": 0,
   "metadata": {
    "application/vnd.databricks.v1+cell": {
     "cellMetadata": {
      "byteLimit": 2048000,
      "rowLimit": 10000
     },
     "inputWidgets": {},
     "nuid": "3e3f3202-616e-44a7-a60a-30b3e3278750",
     "showTitle": false,
     "title": ""
    }
   },
   "outputs": [
    {
     "output_type": "display_data",
     "data": {
      "text/html": [
       "<style scoped>\n",
       "  .ansiout {\n",
       "    display: block;\n",
       "    unicode-bidi: embed;\n",
       "    white-space: pre-wrap;\n",
       "    word-wrap: break-word;\n",
       "    word-break: break-all;\n",
       "    font-family: \"Menlo\", \"Monaco\", \"Consolas\", \"Ubuntu Mono\", \"Source Code Pro\", monospace;\n",
       "    font-size: 13px;\n",
       "    color: #555;\n",
       "    margin-left: 4px;\n",
       "    line-height: 19px;\n",
       "  }\n",
       "</style>\n",
       "<div class=\"ansiout\">+-------------------+--------------+--------------+\n",
       "            country|      category|category_count|\n",
       "+-------------------+--------------+--------------+\n",
       "Antigua and Barbuda|     christmas|             2|\n",
       "            Algeria|        quotes|             2|\n",
       "     American Samoa|        beauty|             2|\n",
       "        Isle of Man|           art|             2|\n",
       "           Djibouti|diy-and-crafts|             1|\n",
       "          Lithuania|     education|             1|\n",
       "              Chile|        quotes|             1|\n",
       "              Aruba|     christmas|             1|\n",
       "          Guatemala|           art|             1|\n",
       "             Bhutan|diy-and-crafts|             1|\n",
       "            Ecuador|  mens-fashion|             1|\n",
       "            Bahamas|        travel|             1|\n",
       "     American Samoa|       tattoos|             1|\n",
       "            Algeria|     christmas|             1|\n",
       "             Canada|        travel|             1|\n",
       "          Argentina|diy-and-crafts|             1|\n",
       "   Christmas Island|        travel|             1|\n",
       "             Monaco|           art|             1|\n",
       "         Seychelles|        beauty|             1|\n",
       "            Austria|       tattoos|             1|\n",
       "+-------------------+--------------+--------------+\n",
       "only showing top 20 rows\n",
       "\n",
       "</div>"
      ]
     },
     "metadata": {
      "application/vnd.databricks.v1+output": {
       "addedWidgets": {},
       "arguments": {},
       "data": "<div class=\"ansiout\">+-------------------+--------------+--------------+\n|            country|      category|category_count|\n+-------------------+--------------+--------------+\n|Antigua and Barbuda|     christmas|             2|\n|            Algeria|        quotes|             2|\n|     American Samoa|        beauty|             2|\n|        Isle of Man|           art|             2|\n|           Djibouti|diy-and-crafts|             1|\n|          Lithuania|     education|             1|\n|              Chile|        quotes|             1|\n|              Aruba|     christmas|             1|\n|          Guatemala|           art|             1|\n|             Bhutan|diy-and-crafts|             1|\n|            Ecuador|  mens-fashion|             1|\n|            Bahamas|        travel|             1|\n|     American Samoa|       tattoos|             1|\n|            Algeria|     christmas|             1|\n|             Canada|        travel|             1|\n|          Argentina|diy-and-crafts|             1|\n|   Christmas Island|        travel|             1|\n|             Monaco|           art|             1|\n|         Seychelles|        beauty|             1|\n|            Austria|       tattoos|             1|\n+-------------------+--------------+--------------+\nonly showing top 20 rows\n\n</div>",
       "datasetInfos": [],
       "metadata": {},
       "removedWidgets": [],
       "type": "html"
      }
     },
     "output_type": "display_data"
    }
   ],
   "source": [
    "#SQL QUERIES\n",
    "df_pin.createOrReplaceTempView(\"pin\")\n",
    "df_user.createOrReplaceTempView(\"user\")\n",
    "df_geo.createOrReplaceTempView(\"geo\")\n",
    "\n",
    "#Most popular Pinterest category people post to based on their country\n",
    "\n",
    "df_popular_categories_by_country = spark.sql(\"SELECT country, category, COUNT(category) AS category_count FROM geo INNER JOIN pin ON pin.ind = geo.ind GROUP BY country,category ORDER BY category_count DESC\")\n",
    "df_popular_categories_by_country.show()"
   ]
  },
  {
   "cell_type": "code",
   "execution_count": 0,
   "metadata": {
    "application/vnd.databricks.v1+cell": {
     "cellMetadata": {
      "byteLimit": 2048000,
      "rowLimit": 10000
     },
     "inputWidgets": {},
     "nuid": "b9cc5a41-25ba-4849-a15e-cf65e028a0f3",
     "showTitle": false,
     "title": ""
    }
   },
   "outputs": [
    {
     "output_type": "display_data",
     "data": {
      "text/html": [
       "<style scoped>\n",
       "  .ansiout {\n",
       "    display: block;\n",
       "    unicode-bidi: embed;\n",
       "    white-space: pre-wrap;\n",
       "    word-wrap: break-word;\n",
       "    word-break: break-all;\n",
       "    font-family: \"Menlo\", \"Monaco\", \"Consolas\", \"Ubuntu Mono\", \"Source Code Pro\", monospace;\n",
       "    font-size: 13px;\n",
       "    color: #555;\n",
       "    margin-left: 4px;\n",
       "    line-height: 19px;\n",
       "  }\n",
       "</style>\n",
       "<div class=\"ansiout\">+----+--------------+--------------+\n",
       "year|      category|category_count|\n",
       "+----+--------------+--------------+\n",
       "2019|diy-and-crafts|             4|\n",
       "2018|           art|             3|\n",
       "2020|     christmas|             3|\n",
       "2022|        quotes|             3|\n",
       "2022|           art|             3|\n",
       "2018|     education|             3|\n",
       "2018|        travel|             2|\n",
       "2020|        beauty|             2|\n",
       "2020|    home-decor|             2|\n",
       "2019|       finance|             2|\n",
       "2021|        quotes|             2|\n",
       "2018|        quotes|             2|\n",
       "+----+--------------+--------------+\n",
       "\n",
       "</div>"
      ]
     },
     "metadata": {
      "application/vnd.databricks.v1+output": {
       "addedWidgets": {},
       "arguments": {},
       "data": "<div class=\"ansiout\">+----+--------------+--------------+\n|year|      category|category_count|\n+----+--------------+--------------+\n|2019|diy-and-crafts|             4|\n|2018|           art|             3|\n|2020|     christmas|             3|\n|2022|        quotes|             3|\n|2022|           art|             3|\n|2018|     education|             3|\n|2018|        travel|             2|\n|2020|        beauty|             2|\n|2020|    home-decor|             2|\n|2019|       finance|             2|\n|2021|        quotes|             2|\n|2018|        quotes|             2|\n+----+--------------+--------------+\n\n</div>",
       "datasetInfos": [],
       "metadata": {},
       "removedWidgets": [],
       "type": "html"
      }
     },
     "output_type": "display_data"
    }
   ],
   "source": [
    "#Most popular category per year between 2018 and 2022\n",
    "\n",
    "df_popular_categories_per_year_between_2018_and_2022 = spark.sql(\"SELECT YEAR(timestamp) AS year, category, COUNT(category) AS category_count FROM geo INNER JOIN pin ON pin.ind = geo.ind WHERE YEAR(timestamp) < 2023 and YEAR(timestamp) > 2017 GROUP BY YEAR(timestamp),category ORDER BY category_count DESC LIMIT 12\")\n",
    "df_popular_categories_per_year_between_2018_and_2022.show()"
   ]
  },
  {
   "cell_type": "code",
   "execution_count": 0,
   "metadata": {
    "application/vnd.databricks.v1+cell": {
     "cellMetadata": {
      "byteLimit": 2048000,
      "rowLimit": 10000
     },
     "inputWidgets": {},
     "nuid": "e7e5bafa-2702-4c01-a184-740b32522e08",
     "showTitle": false,
     "title": ""
    }
   },
   "outputs": [
    {
     "output_type": "display_data",
     "data": {
      "text/html": [
       "<style scoped>\n",
       "  .ansiout {\n",
       "    display: block;\n",
       "    unicode-bidi: embed;\n",
       "    white-space: pre-wrap;\n",
       "    word-wrap: break-word;\n",
       "    word-break: break-all;\n",
       "    font-family: \"Menlo\", \"Monaco\", \"Consolas\", \"Ubuntu Mono\", \"Source Code Pro\", monospace;\n",
       "    font-size: 13px;\n",
       "    color: #555;\n",
       "    margin-left: 4px;\n",
       "    line-height: 19px;\n",
       "  }\n",
       "</style>\n",
       "<div class=\"ansiout\">+-------------------+-------------------+--------------+\n",
       "            country|          user_name|follower_count|\n",
       "+-------------------+-------------------+--------------+\n",
       "     American Samoa|       Aaron Abbott|       5000000|\n",
       "     American Samoa|       Aaron Abbott|       5000000|\n",
       "        Afghanistan|Alexandria Alvarado|       2000000|\n",
       "Antigua and Barbuda|          Ann Chung|       1000000|\n",
       "            Andorra|        Alison Bell|       1000000|\n",
       "            Algeria|       Aaron Abbott|        942000|\n",
       "            Algeria|       Aaron Abbott|        942000|\n",
       "            Lesotho|     Regina Morales|        908000|\n",
       "              Aruba|       Debra Becker|        874000|\n",
       "            Andorra|       Amanda Brown|        799000|\n",
       "   Pitcairn Islands|    Elizabeth Terry|        671000|\n",
       "            Algeria|       Angela Allen|        613000|\n",
       "           Maldives|         Daniel Roy|        330000|\n",
       "            Algeria|     Alexis Bennett|        326000|\n",
       "             Monaco|      Glenn Hammond|        227000|\n",
       "            Comoros|        Gary Barker|        196000|\n",
       "            Andorra|    Aaron Alexander|        190000|\n",
       "            Andorra|    Aaron Alexander|        190000|\n",
       "         Cape Verde|    Alexander Perez|        178000|\n",
       "           Djibouti|     Jesus Arellano|        130000|\n",
       "+-------------------+-------------------+--------------+\n",
       "only showing top 20 rows\n",
       "\n",
       "</div>"
      ]
     },
     "metadata": {
      "application/vnd.databricks.v1+output": {
       "addedWidgets": {},
       "arguments": {},
       "data": "<div class=\"ansiout\">+-------------------+-------------------+--------------+\n|            country|          user_name|follower_count|\n+-------------------+-------------------+--------------+\n|     American Samoa|       Aaron Abbott|       5000000|\n|     American Samoa|       Aaron Abbott|       5000000|\n|        Afghanistan|Alexandria Alvarado|       2000000|\n|Antigua and Barbuda|          Ann Chung|       1000000|\n|            Andorra|        Alison Bell|       1000000|\n|            Algeria|       Aaron Abbott|        942000|\n|            Algeria|       Aaron Abbott|        942000|\n|            Lesotho|     Regina Morales|        908000|\n|              Aruba|       Debra Becker|        874000|\n|            Andorra|       Amanda Brown|        799000|\n|   Pitcairn Islands|    Elizabeth Terry|        671000|\n|            Algeria|       Angela Allen|        613000|\n|           Maldives|         Daniel Roy|        330000|\n|            Algeria|     Alexis Bennett|        326000|\n|             Monaco|      Glenn Hammond|        227000|\n|            Comoros|        Gary Barker|        196000|\n|            Andorra|    Aaron Alexander|        190000|\n|            Andorra|    Aaron Alexander|        190000|\n|         Cape Verde|    Alexander Perez|        178000|\n|           Djibouti|     Jesus Arellano|        130000|\n+-------------------+-------------------+--------------+\nonly showing top 20 rows\n\n</div>",
       "datasetInfos": [],
       "metadata": {},
       "removedWidgets": [],
       "type": "html"
      }
     },
     "output_type": "display_data"
    }
   ],
   "source": [
    "#User with most followers per country\n",
    "\n",
    "df_user_with_most_followers_per_country = spark.sql(\"SELECT country, user_name, follower_count FROM user INNER JOIN pin ON pin.ind = user.ind INNER JOIN geo ON geo.ind = pin.ind ORDER BY follower_count DESC\")\n",
    "df_user_with_most_followers_per_country.show()"
   ]
  },
  {
   "cell_type": "code",
   "execution_count": 0,
   "metadata": {
    "application/vnd.databricks.v1+cell": {
     "cellMetadata": {
      "byteLimit": 2048000,
      "rowLimit": 10000
     },
     "inputWidgets": {},
     "nuid": "683f35ed-1191-47ab-9bbb-8d596c816701",
     "showTitle": false,
     "title": ""
    }
   },
   "outputs": [
    {
     "output_type": "display_data",
     "data": {
      "text/html": [
       "<style scoped>\n",
       "  .ansiout {\n",
       "    display: block;\n",
       "    unicode-bidi: embed;\n",
       "    white-space: pre-wrap;\n",
       "    word-wrap: break-word;\n",
       "    word-break: break-all;\n",
       "    font-family: \"Menlo\", \"Monaco\", \"Consolas\", \"Ubuntu Mono\", \"Source Code Pro\", monospace;\n",
       "    font-size: 13px;\n",
       "    color: #555;\n",
       "    margin-left: 4px;\n",
       "    line-height: 19px;\n",
       "  }\n",
       "</style>\n",
       "<div class=\"ansiout\">+--------------+--------------+\n",
       "       country|follower_count|\n",
       "+--------------+--------------+\n",
       "American Samoa|       5000000|\n",
       "+--------------+--------------+\n",
       "\n",
       "</div>"
      ]
     },
     "metadata": {
      "application/vnd.databricks.v1+output": {
       "addedWidgets": {},
       "arguments": {},
       "data": "<div class=\"ansiout\">+--------------+--------------+\n|       country|follower_count|\n+--------------+--------------+\n|American Samoa|       5000000|\n+--------------+--------------+\n\n</div>",
       "datasetInfos": [],
       "metadata": {},
       "removedWidgets": [],
       "type": "html"
      }
     },
     "output_type": "display_data"
    }
   ],
   "source": [
    "#Country with the user with the most followers\n",
    "\n",
    "df_most_followers_per_country = spark.sql(\"WITH user_followers AS (SELECT country, user_name, follower_count FROM user INNER JOIN pin ON pin.ind = user.ind INNER JOIN geo ON geo.ind = pin.ind ORDER BY follower_count DESC) SELECT country, MAX(follower_count) AS follower_count FROM user_followers GROUP BY country ORDER BY follower_count DESC LIMIT 1\")\n",
    "df_most_followers_per_country.show()"
   ]
  },
  {
   "cell_type": "code",
   "execution_count": 0,
   "metadata": {
    "application/vnd.databricks.v1+cell": {
     "cellMetadata": {
      "byteLimit": 2048000,
      "rowLimit": 10000
     },
     "inputWidgets": {},
     "nuid": "0322287e-f15a-4d23-a1d5-388c208ca67e",
     "showTitle": false,
     "title": ""
    }
   },
   "outputs": [
    {
     "output_type": "display_data",
     "data": {
      "text/html": [
       "<style scoped>\n",
       "  .ansiout {\n",
       "    display: block;\n",
       "    unicode-bidi: embed;\n",
       "    white-space: pre-wrap;\n",
       "    word-wrap: break-word;\n",
       "    word-break: break-all;\n",
       "    font-family: \"Menlo\", \"Monaco\", \"Consolas\", \"Ubuntu Mono\", \"Source Code Pro\", monospace;\n",
       "    font-size: 13px;\n",
       "    color: #555;\n",
       "    margin-left: 4px;\n",
       "    line-height: 19px;\n",
       "  }\n",
       "</style>\n",
       "<div class=\"ansiout\">+--------------+--------------+---------+\n",
       "      category|category_count|age_group|\n",
       "+--------------+--------------+---------+\n",
       "           art|             5|    25-35|\n",
       "     christmas|             4|    25-35|\n",
       "     education|             3|    18-24|\n",
       "diy-and-crafts|             3|    18-24|\n",
       "        quotes|             3|    18-24|\n",
       "  mens-fashion|             3|    18-24|\n",
       "           art|             3|    36-50|\n",
       "        beauty|             3|    18-24|\n",
       "       tattoos|             3|    18-24|\n",
       "        travel|             2|    36-50|\n",
       "diy-and-crafts|             2|    36-50|\n",
       "diy-and-crafts|             2|    25-35|\n",
       "        quotes|             2|    36-50|\n",
       "        travel|             2|    25-35|\n",
       "     christmas|             2|    18-24|\n",
       "      vehicles|             2|    36-50|\n",
       "        beauty|             2|      50+|\n",
       "    home-decor|             2|    36-50|\n",
       "           art|             2|    18-24|\n",
       "       finance|             2|    18-24|\n",
       "+--------------+--------------+---------+\n",
       "only showing top 20 rows\n",
       "\n",
       "</div>"
      ]
     },
     "metadata": {
      "application/vnd.databricks.v1+output": {
       "addedWidgets": {},
       "arguments": {},
       "data": "<div class=\"ansiout\">+--------------+--------------+---------+\n|      category|category_count|age_group|\n+--------------+--------------+---------+\n|           art|             5|    25-35|\n|     christmas|             4|    25-35|\n|     education|             3|    18-24|\n|diy-and-crafts|             3|    18-24|\n|        quotes|             3|    18-24|\n|  mens-fashion|             3|    18-24|\n|           art|             3|    36-50|\n|        beauty|             3|    18-24|\n|       tattoos|             3|    18-24|\n|        travel|             2|    36-50|\n|diy-and-crafts|             2|    36-50|\n|diy-and-crafts|             2|    25-35|\n|        quotes|             2|    36-50|\n|        travel|             2|    25-35|\n|     christmas|             2|    18-24|\n|      vehicles|             2|    36-50|\n|        beauty|             2|      50+|\n|    home-decor|             2|    36-50|\n|           art|             2|    18-24|\n|       finance|             2|    18-24|\n+--------------+--------------+---------+\nonly showing top 20 rows\n\n</div>",
       "datasetInfos": [],
       "metadata": {},
       "removedWidgets": [],
       "type": "html"
      }
     },
     "output_type": "display_data"
    }
   ],
   "source": [
    "#Most popular category for different age groups\n",
    "\n",
    "df_most_popular_category_per_age_group = spark.sql(\"SELECT category, COUNT(category) AS category_count, CASE WHEN age BETWEEN 18 AND 24 THEN '18-24' WHEN age BETWEEN 25 AND 35 THEN '25-35' WHEN age BETWEEN 36 AND 51 THEN '36-50' ELSE '50+' END AS age_group FROM pin INNER JOIN user ON pin.ind = user.ind GROUP BY age_group,category ORDER BY category_count DESC\")\n",
    "df_most_popular_category_per_age_group.show()"
   ]
  },
  {
   "cell_type": "code",
   "execution_count": 0,
   "metadata": {
    "application/vnd.databricks.v1+cell": {
     "cellMetadata": {
      "byteLimit": 2048000,
      "rowLimit": 10000
     },
     "inputWidgets": {},
     "nuid": "adbc94ea-0a8b-4df1-b3b8-529939a91960",
     "showTitle": false,
     "title": ""
    }
   },
   "outputs": [
    {
     "output_type": "display_data",
     "data": {
      "text/html": [
       "<style scoped>\n",
       "  .ansiout {\n",
       "    display: block;\n",
       "    unicode-bidi: embed;\n",
       "    white-space: pre-wrap;\n",
       "    word-wrap: break-word;\n",
       "    word-break: break-all;\n",
       "    font-family: \"Menlo\", \"Monaco\", \"Consolas\", \"Ubuntu Mono\", \"Source Code Pro\", monospace;\n",
       "    font-size: 13px;\n",
       "    color: #555;\n",
       "    margin-left: 4px;\n",
       "    line-height: 19px;\n",
       "  }\n",
       "</style>\n",
       "<div class=\"ansiout\">+---------------------+---------+\n",
       "median_follower_count|age_group|\n",
       "+---------------------+---------+\n",
       "             190000.0|    18-24|\n",
       "              41500.0|    25-35|\n",
       "               9000.0|      50+|\n",
       "               4500.0|    36-50|\n",
       "+---------------------+---------+\n",
       "\n",
       "</div>"
      ]
     },
     "metadata": {
      "application/vnd.databricks.v1+output": {
       "addedWidgets": {},
       "arguments": {},
       "data": "<div class=\"ansiout\">+---------------------+---------+\n|median_follower_count|age_group|\n+---------------------+---------+\n|             190000.0|    18-24|\n|              41500.0|    25-35|\n|               9000.0|      50+|\n|               4500.0|    36-50|\n+---------------------+---------+\n\n</div>",
       "datasetInfos": [],
       "metadata": {},
       "removedWidgets": [],
       "type": "html"
      }
     },
     "output_type": "display_data"
    }
   ],
   "source": [
    "#Median follower_count for each age group\n",
    "\n",
    "df_median_follower_count_per_age_group = spark.sql(\"SELECT PERCENTILE_CONT(0.5) WITHIN GROUP (ORDER BY follower_count) AS median_follower_count, CASE WHEN age BETWEEN 18 AND 24 THEN '18-24' WHEN age BETWEEN 25 AND 35 THEN '25-35' WHEN age BETWEEN 36 AND 51 THEN '36-50' ELSE '50+' END AS age_group FROM pin INNER JOIN user ON pin.ind = user.ind GROUP BY age_group ORDER BY median_follower_count DESC\")\n",
    "df_median_follower_count_per_age_group.show()"
   ]
  },
  {
   "cell_type": "code",
   "execution_count": 0,
   "metadata": {
    "application/vnd.databricks.v1+cell": {
     "cellMetadata": {
      "byteLimit": 2048000,
      "rowLimit": 10000
     },
     "inputWidgets": {},
     "nuid": "6f709593-933d-4c17-962f-6eb028e3b44c",
     "showTitle": false,
     "title": ""
    }
   },
   "outputs": [
    {
     "output_type": "display_data",
     "data": {
      "text/html": [
       "<style scoped>\n",
       "  .ansiout {\n",
       "    display: block;\n",
       "    unicode-bidi: embed;\n",
       "    white-space: pre-wrap;\n",
       "    word-wrap: break-word;\n",
       "    word-break: break-all;\n",
       "    font-family: \"Menlo\", \"Monaco\", \"Consolas\", \"Ubuntu Mono\", \"Source Code Pro\", monospace;\n",
       "    font-size: 13px;\n",
       "    color: #555;\n",
       "    margin-left: 4px;\n",
       "    line-height: 19px;\n",
       "  }\n",
       "</style>\n",
       "<div class=\"ansiout\">+---------+-------------------+\n",
       "post_year|number_users_joined|\n",
       "+---------+-------------------+\n",
       "     2018|                 17|\n",
       "     2022|                 10|\n",
       "     2019|                 12|\n",
       "     2020|                 14|\n",
       "     2017|                  6|\n",
       "     2021|                  9|\n",
       "+---------+-------------------+\n",
       "\n",
       "</div>"
      ]
     },
     "metadata": {
      "application/vnd.databricks.v1+output": {
       "addedWidgets": {},
       "arguments": {},
       "data": "<div class=\"ansiout\">+---------+-------------------+\n|post_year|number_users_joined|\n+---------+-------------------+\n|     2018|                 17|\n|     2022|                 10|\n|     2019|                 12|\n|     2020|                 14|\n|     2017|                  6|\n|     2021|                  9|\n+---------+-------------------+\n\n</div>",
       "datasetInfos": [],
       "metadata": {},
       "removedWidgets": [],
       "type": "html"
      }
     },
     "output_type": "display_data"
    }
   ],
   "source": [
    "#Amount of users joined per year\n",
    "\n",
    "df_amount_of_users_joined_per_year = spark.sql(\"SELECT YEAR(timestamp) AS post_year, COUNT(YEAR(date_joined)) AS number_users_joined FROM user INNER JOIN geo ON geo.ind = user.ind WHERE YEAR(timestamp) BETWEEN 2015 AND 2022 GROUP BY post_year\")\n",
    "df_amount_of_users_joined_per_year.show()"
   ]
  },
  {
   "cell_type": "code",
   "execution_count": 0,
   "metadata": {
    "application/vnd.databricks.v1+cell": {
     "cellMetadata": {
      "byteLimit": 2048000,
      "rowLimit": 10000
     },
     "inputWidgets": {},
     "nuid": "5b5a56f0-415d-45f8-9fd7-885a23d168e4",
     "showTitle": false,
     "title": ""
    }
   },
   "outputs": [
    {
     "output_type": "display_data",
     "data": {
      "text/html": [
       "<style scoped>\n",
       "  .ansiout {\n",
       "    display: block;\n",
       "    unicode-bidi: embed;\n",
       "    white-space: pre-wrap;\n",
       "    word-wrap: break-word;\n",
       "    word-break: break-all;\n",
       "    font-family: \"Menlo\", \"Monaco\", \"Consolas\", \"Ubuntu Mono\", \"Source Code Pro\", monospace;\n",
       "    font-size: 13px;\n",
       "    color: #555;\n",
       "    margin-left: 4px;\n",
       "    line-height: 19px;\n",
       "  }\n",
       "</style>\n",
       "<div class=\"ansiout\">+---------------------+---------+\n",
       "median_follower_count|post_year|\n",
       "+---------------------+---------+\n",
       "             469500.0|     2017|\n",
       "              41500.0|     2020|\n",
       "              26000.0|     2019|\n",
       "              19000.0|     2018|\n",
       "+---------------------+---------+\n",
       "\n",
       "</div>"
      ]
     },
     "metadata": {
      "application/vnd.databricks.v1+output": {
       "addedWidgets": {},
       "arguments": {},
       "data": "<div class=\"ansiout\">+---------------------+---------+\n|median_follower_count|post_year|\n+---------------------+---------+\n|             469500.0|     2017|\n|              41500.0|     2020|\n|              26000.0|     2019|\n|              19000.0|     2018|\n+---------------------+---------+\n\n</div>",
       "datasetInfos": [],
       "metadata": {},
       "removedWidgets": [],
       "type": "html"
      }
     },
     "output_type": "display_data"
    }
   ],
   "source": [
    "#Median follower count based on joining year\n",
    "\n",
    "df_median_follower_count_per_joining_year = spark.sql(\"SELECT PERCENTILE_CONT(0.5) WITHIN GROUP (ORDER BY follower_count) AS median_follower_count, YEAR(timestamp) AS post_year FROM pin INNER JOIN geo ON pin.ind = geo.ind WHERE YEAR(timestamp) BETWEEN 2015 AND 2020 GROUP BY post_year ORDER BY median_follower_count DESC\")\n",
    "df_median_follower_count_per_joining_year.show()"
   ]
  },
  {
   "cell_type": "code",
   "execution_count": 0,
   "metadata": {
    "application/vnd.databricks.v1+cell": {
     "cellMetadata": {
      "byteLimit": 2048000,
      "rowLimit": 10000
     },
     "inputWidgets": {},
     "nuid": "eac323e5-d35e-44f0-ac82-c57782477611",
     "showTitle": false,
     "title": ""
    }
   },
   "outputs": [
    {
     "output_type": "display_data",
     "data": {
      "text/html": [
       "<style scoped>\n",
       "  .ansiout {\n",
       "    display: block;\n",
       "    unicode-bidi: embed;\n",
       "    white-space: pre-wrap;\n",
       "    word-wrap: break-word;\n",
       "    word-break: break-all;\n",
       "    font-family: \"Menlo\", \"Monaco\", \"Consolas\", \"Ubuntu Mono\", \"Source Code Pro\", monospace;\n",
       "    font-size: 13px;\n",
       "    color: #555;\n",
       "    margin-left: 4px;\n",
       "    line-height: 19px;\n",
       "  }\n",
       "</style>\n",
       "<div class=\"ansiout\">+---------+---------------------+---------+\n",
       "post_year|median_follower_count|age_group|\n",
       "+---------+---------------------+---------+\n",
       "     2017|             806500.0|    18-24|\n",
       "     2017|             326000.0|      50+|\n",
       "     2019|              60000.0|    18-24|\n",
       "     2020|              47000.0|    18-24|\n",
       "     2020|              47000.0|    25-35|\n",
       "     2018|              27000.0|    25-35|\n",
       "     2018|              19000.0|    36-50|\n",
       "     2018|              14000.0|    18-24|\n",
       "     2017|               6000.0|    25-35|\n",
       "     2018|               5000.0|      50+|\n",
       "     2020|               4657.0|    36-50|\n",
       "     2019|               3500.0|    36-50|\n",
       "     2019|               3000.0|    25-35|\n",
       "     2020|                 20.0|      50+|\n",
       "+---------+---------------------+---------+\n",
       "\n",
       "</div>"
      ]
     },
     "metadata": {
      "application/vnd.databricks.v1+output": {
       "addedWidgets": {},
       "arguments": {},
       "data": "<div class=\"ansiout\">+---------+---------------------+---------+\n|post_year|median_follower_count|age_group|\n+---------+---------------------+---------+\n|     2017|             806500.0|    18-24|\n|     2017|             326000.0|      50+|\n|     2019|              60000.0|    18-24|\n|     2020|              47000.0|    18-24|\n|     2020|              47000.0|    25-35|\n|     2018|              27000.0|    25-35|\n|     2018|              19000.0|    36-50|\n|     2018|              14000.0|    18-24|\n|     2017|               6000.0|    25-35|\n|     2018|               5000.0|      50+|\n|     2020|               4657.0|    36-50|\n|     2019|               3500.0|    36-50|\n|     2019|               3000.0|    25-35|\n|     2020|                 20.0|      50+|\n+---------+---------------------+---------+\n\n</div>",
       "datasetInfos": [],
       "metadata": {},
       "removedWidgets": [],
       "type": "html"
      }
     },
     "output_type": "display_data"
    }
   ],
   "source": [
    "#Median follower count based on year and age group\n",
    "\n",
    "df_median_follower_count_per_age_group_and_year = spark.sql(\"SELECT YEAR(timestamp) AS post_year, PERCENTILE_CONT(0.5) WITHIN GROUP (ORDER BY follower_count) AS median_follower_count, CASE WHEN age BETWEEN 18 AND 24 THEN '18-24' WHEN age BETWEEN 25 AND 35 THEN '25-35' WHEN age BETWEEN 36 AND 51 THEN '36-50' ELSE '50+' END AS age_group FROM pin INNER JOIN geo ON pin.ind = geo.ind INNER JOIN user ON geo.ind = user.ind WHERE YEAR(timestamp) BETWEEN 2015 AND 2020 GROUP BY age_group,post_year ORDER BY median_follower_count DESC\")\n",
    "df_median_follower_count_per_age_group_and_year.show()"
   ]
  }
 ],
 "metadata": {
  "application/vnd.databricks.v1+notebook": {
   "dashboards": [],
   "language": "python",
   "notebookMetadata": {
    "pythonIndentUnit": 4
   },
   "notebookName": "databricks_data_cleaning_and_sql_queries_notebook",
   "widgets": {}
  }
 },
 "nbformat": 4,
 "nbformat_minor": 0
}
